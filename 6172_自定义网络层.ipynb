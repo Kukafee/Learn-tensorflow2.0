{
 "cells": [
  {
   "cell_type": "markdown",
   "metadata": {},
   "source": [
    "## 自定义网络层"
   ]
  },
  {
   "cell_type": "code",
   "execution_count": 1,
   "metadata": {},
   "outputs": [],
   "source": [
    "import tensorflow as tf\n",
    "from tensorflow.keras import datasets, layers, optimizers, Sequential, metrics\n",
    "from tensorflow import keras"
   ]
  },
  {
   "cell_type": "code",
   "execution_count": 2,
   "metadata": {},
   "outputs": [],
   "source": [
    "def preprocess(x, y):\n",
    "    \"\"\"x is a simple image, not a batch\"\"\"\n",
    "    x = tf.cast(x, dtype=tf.float32) / 255.\n",
    "    x = tf.reshape(x, [28*28])\n",
    "    y = tf.cast(y, dtype=tf.int32)\n",
    "    y = tf.one_hot(y, depth=10)\n",
    "    return x, y"
   ]
  },
  {
   "cell_type": "code",
   "execution_count": 3,
   "metadata": {},
   "outputs": [
    {
     "name": "stdout",
     "output_type": "stream",
     "text": [
      "datasets: (60000, 28, 28) (60000,) 0 0\n"
     ]
    }
   ],
   "source": [
    "batchsz = 128\n",
    "(x, y), (x_val, y_val) = datasets.mnist.load_data()\n",
    "print('datasets:', x.shape, y.shape, x.min(), y.min())"
   ]
  },
  {
   "cell_type": "code",
   "execution_count": 4,
   "metadata": {},
   "outputs": [
    {
     "name": "stdout",
     "output_type": "stream",
     "text": [
      "(128, 784) (128, 10)\n"
     ]
    }
   ],
   "source": [
    "db = tf.data.Dataset.from_tensor_slices((x, y))\n",
    "db = db.map(preprocess).shuffle(60000).batch(batchsz)\n",
    "ds_val = tf.data.Dataset.from_tensor_slices((x_val, y_val))\n",
    "ds_val = ds_val.map(preprocess).batch(batchsz)\n",
    "\n",
    "sample = next(iter(db))\n",
    "print(sample[0].shape, sample[1].shape)"
   ]
  },
  {
   "cell_type": "code",
   "execution_count": 5,
   "metadata": {},
   "outputs": [
    {
     "name": "stdout",
     "output_type": "stream",
     "text": [
      "Model: \"sequential\"\n",
      "_________________________________________________________________\n",
      "Layer (type)                 Output Shape              Param #   \n",
      "=================================================================\n",
      "dense (Dense)                multiple                  200960    \n",
      "_________________________________________________________________\n",
      "dense_1 (Dense)              multiple                  32896     \n",
      "_________________________________________________________________\n",
      "dense_2 (Dense)              multiple                  8256      \n",
      "_________________________________________________________________\n",
      "dense_3 (Dense)              multiple                  2080      \n",
      "_________________________________________________________________\n",
      "dense_4 (Dense)              multiple                  330       \n",
      "=================================================================\n",
      "Total params: 244,522\n",
      "Trainable params: 244,522\n",
      "Non-trainable params: 0\n",
      "_________________________________________________________________\n"
     ]
    }
   ],
   "source": [
    "network = Sequential([   \n",
    "    layers.Dense(256, activation=tf.nn.relu),    # [b, 784] => [b, 256]\n",
    "    layers.Dense(128, activation=tf.nn.relu),    # [b, 256] => [b, 128]\n",
    "    layers.Dense(64, activation=tf.nn.relu),     # [b, 128] => [b, 64]\n",
    "    layers.Dense(32, activation=tf.nn.relu),     # [b, 64] => [b, 32]\n",
    "    layers.Dense(10)                             # [b, 32] => [b, 10]\n",
    "])\n",
    "network.build(input_shape=(None, 28*28))\n",
    "network.summary()"
   ]
  },
  {
   "cell_type": "code",
   "execution_count": 10,
   "metadata": {},
   "outputs": [
    {
     "name": "stdout",
     "output_type": "stream",
     "text": [
      "Epoch 1/5\n",
      "469/469 [==============================] - 3s 5ms/step - loss: 0.2760 - accuracy: 0.8402\n",
      "Epoch 2/5\n",
      "469/469 [==============================] - 2s 5ms/step - loss: 0.1328 - accuracy: 0.9600 - val_loss: 0.1292 - val_accuracy: 0.9646\n",
      "Epoch 3/5\n",
      "469/469 [==============================] - 2s 4ms/step - loss: 0.1039 - accuracy: 0.9692\n",
      "Epoch 4/5\n",
      "469/469 [==============================] - 2s 5ms/step - loss: 0.0994 - accuracy: 0.9722 - val_loss: 0.1339 - val_accuracy: 0.9666\n",
      "Epoch 5/5\n",
      "469/469 [==============================] - 2s 4ms/step - loss: 0.0833 - accuracy: 0.9770\n",
      "79/79 [==============================] - 0s 3ms/step - loss: 0.1644 - accuracy: 0.9631\n",
      "tf.Tensor(\n",
      "[7 6 9 4 4 5 7 3 5 8 3 6 3 5 3 1 2 9 5 9 2 2 4 8 6 1 7 9 2 2 9 3 4 3 0 9 9\n",
      " 2 4 9 0 5 8 0 8 3 2 1 7 1 2 9 3 2 2 0 1 1 0 3 4 9 0 2 8 3 8 9 4 3 2 9 3 4\n",
      " 4 8 6 5 4 3 0 8 7 6 0 4 0 3 1 1 2 0 6 2 4 7 7 2 0 2 3 6 5 9 8 0 8 5 3 7 4\n",
      " 6 9 2 7 9 6 1 6 5 0 7 2 1 9 5 2 3], shape=(128,), dtype=int64)\n",
      "tf.Tensor(\n",
      "[7 6 9 4 4 5 7 3 5 8 3 6 3 5 3 1 2 9 5 9 2 2 4 8 6 1 7 9 2 2 9 3 4 3 0 9 9\n",
      " 2 4 9 0 5 8 0 8 3 2 1 7 8 2 9 3 2 2 0 1 9 0 3 4 9 0 2 8 3 8 9 4 3 2 9 3 4\n",
      " 4 8 6 5 4 3 0 8 7 6 0 4 0 3 1 1 2 0 6 2 4 7 9 2 0 2 3 6 5 9 8 0 8 5 3 7 4\n",
      " 6 9 2 7 9 6 1 6 5 0 7 2 1 9 5 2 3], shape=(128,), dtype=int64)\n"
     ]
    }
   ],
   "source": [
    "# 自定义层 MyDense 类，需要继承自父类：tf.keras.layers.Layer\n",
    "class MyDense(layers.Layer):\n",
    "    # 定义 __init__() 方法，用于初始化 MyDense 层\n",
    "    def __init__(self, inp_dim, outp_dim):\n",
    "        # 调用父类的 __init__()\n",
    "        super(MyDense, self).__init__()\n",
    "        # 自定义参数，需要调用 add_variable() 方法，便于以后TensorFlow的Sequential统一管理\n",
    "        # w参数\n",
    "        self.kernel = self.add_variable('w',[inp_dim, outp_dim])\n",
    "        # b参数\n",
    "        self.bias = self.add_variable('b', [outp_dim])\n",
    "    # 定义 call() 方法,用于执行层的自定义功能\n",
    "    def call(self, inputs, training=None):\n",
    "        out = inputs @ self.kernel + self.bias\n",
    "        return out\n",
    "    \n",
    "# 自定义 MyModel 类，需要继承自父类： tf.keras.Model\n",
    "class MyModel(keras.Model):\n",
    "    def __init__(self):\n",
    "        super(MyModel, self).__init__()\n",
    "        # 使用自定义的 MyDense 类对象定义 MyModel\n",
    "        self.fc1 = MyDense(28*28, 256)\n",
    "        self.fc2 = MyDense(256, 128)\n",
    "        self.fc3 = MyDense(128, 64)\n",
    "        self.fc4 = MyDense(64, 32)\n",
    "        self.fc5 = MyDense(32, 10)\n",
    "    # 自定义定义cal()方法    \n",
    "    def call(self, inputs, training=None):\n",
    "#         x = self.fc1(inputs)\n",
    "#         x = tf.nn.relu(x)\n",
    "#         x = self.fc2(x)\n",
    "#         x = tf.nn.relu(x)\n",
    "#         x = self.fc3(x)\n",
    "#         x = tf.nn.relu(x)\n",
    "#         x = self.fc4(x)\n",
    "#         x = tf.nn.relu(x)\n",
    "#         x = self.fc5(x)\n",
    "        x = tf.nn.relu(self.fc1(inputs))\n",
    "        x = tf.nn.relu(self.fc2(x))\n",
    "        x = tf.nn.relu(self.fc3(x))\n",
    "        x = tf.nn.relu(self.fc4(x))\n",
    "        x = self.fc5(x)      \n",
    "        return x\n",
    "    \n",
    "# 创建神经网络 network\n",
    "network = MyModel()\n",
    "# 因为MyModel继承自tf.keras.Model,MyDense 继承自 layers.Layer，所以可以调用的高阶API：\n",
    "# compile、fit、evaluate 完成对数据的训练和测试\n",
    "network.compile(optimizer=optimizers.Adam(lr=0.01),\n",
    "               loss=tf.losses.CategoricalCrossentropy(from_logits=True),\n",
    "               metrics=['accuracy'])\n",
    "network.fit(db, epochs=5, validation_data=ds_val, validation_freq=2)\n",
    "network.evaluate(ds_val)\n",
    "\n",
    "smaple = next(iter(ds_val))\n",
    "x = sample[0]\n",
    "y = sample[1]\n",
    "# 调用 network 的 predict() 方法，对神经网络进行预测\n",
    "pred = network.predict(x)\n",
    "# convert back to number\n",
    "y = tf.argmax(y, axis=1)\n",
    "pred = tf.argmax(pred, axis=1)\n",
    "print(pred)\n",
    "print(y)"
   ]
  }
 ],
 "metadata": {
  "kernelspec": {
   "display_name": "Python 3",
   "language": "python",
   "name": "python3"
  },
  "language_info": {
   "codemirror_mode": {
    "name": "ipython",
    "version": 3
   },
   "file_extension": ".py",
   "mimetype": "text/x-python",
   "name": "python",
   "nbconvert_exporter": "python",
   "pygments_lexer": "ipython3",
   "version": "3.6.7"
  }
 },
 "nbformat": 4,
 "nbformat_minor": 2
}
