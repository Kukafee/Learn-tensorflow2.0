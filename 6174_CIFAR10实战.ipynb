{
 "cells": [
  {
   "cell_type": "markdown",
   "metadata": {},
   "source": [
    "## CIFAR10实战"
   ]
  },
  {
   "cell_type": "code",
   "execution_count": 1,
   "metadata": {},
   "outputs": [
    {
     "name": "stdout",
     "output_type": "stream",
     "text": [
      "2.0.0-alpha0\n",
      "sys.version_info(major=3, minor=6, micro=7, releaselevel='final', serial=0)\n",
      "matplotlib 3.1.0\n",
      "numpy 1.16.4\n",
      "pandas 0.24.2\n",
      "sklearn 0.21.2\n",
      "tensorflow 2.0.0-alpha0\n",
      "tensorflow.python.keras.api._v2.keras 2.2.4-tf\n"
     ]
    }
   ],
   "source": [
    "import matplotlib as mpl\n",
    "import matplotlib.pyplot as plt\n",
    "%matplotlib inline\n",
    "import numpy as np\n",
    "import sklearn\n",
    "import pandas as pd\n",
    "import os\n",
    "import sys\n",
    "import time\n",
    "import tensorflow as tf\n",
    "import datetime\n",
    "from tensorflow import keras\n",
    "from tensorflow.keras import datasets, layers, optimizers, Sequential, metrics\n",
    "\n",
    "print(tf.__version__)\n",
    "print(sys.version_info)\n",
    "for module in mpl, np, pd, sklearn, tf, keras:\n",
    "    print(module.__name__, module.__version__)\n",
    "    \n",
    "os.environ['TF_CPP_MIN_LOG_LEVEL'] = '2'"
   ]
  },
  {
   "cell_type": "code",
   "execution_count": 2,
   "metadata": {},
   "outputs": [
    {
     "name": "stdout",
     "output_type": "stream",
     "text": [
      "datasets: (50000, 32, 32, 3) (10000, 32, 32, 3) (50000, 10) (10000, 10) 0 255\n"
     ]
    }
   ],
   "source": [
    "def preprocess(x, y):\n",
    "    \"\"\"x is a simple image, not a batch\"\"\"\n",
    "    # [0 -- 255] => [-1 -- 1]\n",
    "    x = 2 * tf.cast(x, dtype=tf.float32) / 255. - 1.\n",
    "    y = tf.cast(y, dtype=tf.int32)\n",
    "    return x, y\n",
    "\n",
    "batchsz = 128\n",
    "# [50k, 32, 32, 3]  [10k, 1]\n",
    "(x, y), (x_val, y_val) = datasets.cifar10.load_data()\n",
    "# 去除维度数为 1 的维，进行压缩\n",
    "y = tf.squeeze(y)    \n",
    "y_val = tf.squeeze(y_val)\n",
    "y = tf.one_hot(y, depth=10)    # [50k, 10]\n",
    "y_val = tf.one_hot(y_val, depth=10)    # [10k, 10]\n",
    "print('datasets:', x.shape,x_val.shape, y.shape, y_val.shape, x.min(), x.max())\n"
   ]
  },
  {
   "cell_type": "code",
   "execution_count": 3,
   "metadata": {
    "scrolled": false
   },
   "outputs": [
    {
     "name": "stdout",
     "output_type": "stream",
     "text": [
      "batch:  (128, 32, 32, 3) (128, 10)\n",
      "batch:  (128, 32, 32, 3) (128, 10)\n"
     ]
    }
   ],
   "source": [
    "# 数据预处理\n",
    "train_db = tf.data.Dataset.from_tensor_slices((x, y))\n",
    "train_db = train_db.map(preprocess).shuffle(10000).batch(batchsz)\n",
    "test_db = tf.data.Dataset.from_tensor_slices((x_val, y_val))\n",
    "test_db = test_db.map(preprocess).batch(batchsz)\n",
    "\n",
    "sample = next(iter(train_db))\n",
    "print('batch: ', sample[0].shape, sample[1].shape)\n",
    "sample_test = next(iter(test_db))\n",
    "print('batch: ', sample_test[0].shape, sample_test[1].shape)"
   ]
  },
  {
   "cell_type": "code",
   "execution_count": 4,
   "metadata": {},
   "outputs": [],
   "source": [
    "# # 定义监听器\n",
    "# current_time = datetime.datetime.now().strftime('%Y%m%d-%H%M%S')\n",
    "# log_dir = '/home/kukafee/workspace/TensorBoard/' + current_time\n",
    "# summary_writer = tf.summary.create_file_writer(log_dir)"
   ]
  },
  {
   "cell_type": "code",
   "execution_count": 5,
   "metadata": {},
   "outputs": [
    {
     "name": "stdout",
     "output_type": "stream",
     "text": [
      "Epoch 1/20\n",
      "391/391 [==============================] - 3s 7ms/step - loss: 1.7201 - accuracy: 0.3478 - val_loss: 1.5662 - val_accuracy: 0.4497\n",
      "Epoch 2/20\n",
      "391/391 [==============================] - 2s 6ms/step - loss: 1.5086 - accuracy: 0.4577 - val_loss: 1.4974 - val_accuracy: 0.4770\n",
      "Epoch 3/20\n",
      "391/391 [==============================] - 2s 6ms/step - loss: 1.4001 - accuracy: 0.4981 - val_loss: 1.4592 - val_accuracy: 0.4899\n",
      "Epoch 4/20\n",
      "391/391 [==============================] - 2s 6ms/step - loss: 1.3103 - accuracy: 0.5308 - val_loss: 1.4362 - val_accuracy: 0.5027\n",
      "Epoch 5/20\n",
      "391/391 [==============================] - 2s 6ms/step - loss: 1.2333 - accuracy: 0.5582 - val_loss: 1.4471 - val_accuracy: 0.5013\n",
      "Epoch 6/20\n",
      "391/391 [==============================] - 2s 6ms/step - loss: 1.1648 - accuracy: 0.5858 - val_loss: 1.4852 - val_accuracy: 0.4973\n",
      "Epoch 7/20\n",
      "391/391 [==============================] - 2s 6ms/step - loss: 1.0972 - accuracy: 0.6083 - val_loss: 1.5080 - val_accuracy: 0.4993\n",
      "Epoch 8/20\n",
      "391/391 [==============================] - 2s 6ms/step - loss: 1.0409 - accuracy: 0.6239 - val_loss: 1.5543 - val_accuracy: 0.4966\n",
      "Epoch 9/20\n",
      "391/391 [==============================] - 2s 6ms/step - loss: 0.9845 - accuracy: 0.6421 - val_loss: 1.6098 - val_accuracy: 0.4999\n",
      "Epoch 10/20\n",
      "391/391 [==============================] - 2s 6ms/step - loss: 0.9389 - accuracy: 0.6594 - val_loss: 1.6581 - val_accuracy: 0.4961\n",
      "Epoch 11/20\n",
      "391/391 [==============================] - 2s 6ms/step - loss: 0.8973 - accuracy: 0.6763 - val_loss: 1.7159 - val_accuracy: 0.4998\n",
      "Epoch 12/20\n",
      "391/391 [==============================] - 2s 6ms/step - loss: 0.8597 - accuracy: 0.6904 - val_loss: 1.7589 - val_accuracy: 0.4935\n",
      "Epoch 13/20\n",
      "391/391 [==============================] - 2s 6ms/step - loss: 0.8335 - accuracy: 0.6983 - val_loss: 1.8015 - val_accuracy: 0.4950\n",
      "Epoch 14/20\n",
      "391/391 [==============================] - 2s 5ms/step - loss: 0.7931 - accuracy: 0.7123 - val_loss: 1.8926 - val_accuracy: 0.4897\n",
      "Epoch 15/20\n",
      "391/391 [==============================] - 2s 6ms/step - loss: 0.7637 - accuracy: 0.7259 - val_loss: 1.9562 - val_accuracy: 0.4928\n",
      "Epoch 16/20\n",
      "391/391 [==============================] - 2s 6ms/step - loss: 0.7250 - accuracy: 0.7358 - val_loss: 2.0491 - val_accuracy: 0.4894\n",
      "Epoch 17/20\n",
      "391/391 [==============================] - 2s 6ms/step - loss: 0.7007 - accuracy: 0.7492 - val_loss: 2.1460 - val_accuracy: 0.4811\n",
      "Epoch 18/20\n",
      "391/391 [==============================] - 2s 6ms/step - loss: 0.6763 - accuracy: 0.7564 - val_loss: 2.1892 - val_accuracy: 0.4866\n",
      "Epoch 19/20\n",
      "391/391 [==============================] - 2s 6ms/step - loss: 0.6479 - accuracy: 0.7655 - val_loss: 2.2051 - val_accuracy: 0.4820\n",
      "Epoch 20/20\n",
      "391/391 [==============================] - 2s 6ms/step - loss: 0.6316 - accuracy: 0.7687 - val_loss: 2.2987 - val_accuracy: 0.4811\n",
      "79/79 [==============================] - 0s 4ms/step - loss: 2.2987 - accuracy: 0.4811\n",
      "saved to \"/home/kukafee/workspace/save_model/weights6174.ckpy\"\n",
      "Loaded weights from file.\n",
      "79/79 [==============================] - 0s 5ms/step - loss: 2.2987 - accuracy: 0.4837\n"
     ]
    },
    {
     "data": {
      "text/plain": [
       "[2.29873543449595, 0.4811]"
      ]
     },
     "execution_count": 5,
     "metadata": {},
     "output_type": "execute_result"
    }
   ],
   "source": [
    "# 自定义层\n",
    "class MyDense(layers.Layer):\n",
    "    # to replace standard layeras.Dense()\n",
    "    def __init__(self, inp_dim, outp_dim):\n",
    "        # 调用父类的初始化方法\n",
    "        super(MyDense, self).__init__()\n",
    "        self.kernel = self.add_variable('w', [inp_dim, outp_dim])\n",
    "#         self.bias = self.add_variable('b', [outp_dim])\n",
    "        \n",
    "    def call(self, inputs, training=None):\n",
    "        x = inputs @ self.kernel\n",
    "        return x\n",
    "    \n",
    "# 自定义网络\n",
    "class MyNetwork(keras.Model):\n",
    "    def __init__(self):\n",
    "        super(MyNetwork, self).__init__()\n",
    "        \n",
    "        self.fc1 = MyDense(32*32*3, 256)\n",
    "        self.fc2 = MyDense(256, 128)\n",
    "        self.fc3 = MyDense(128, 64)\n",
    "        self.fc4 = MyDense(64, 32)\n",
    "        self.fc5 = MyDense(32, 10)\n",
    "        \n",
    "    def call(self, inputs, training=None):\n",
    "        # inputs [b, 32, 32, 3]\n",
    "        x = tf.reshape(inputs, [-1, 32*32*3])    # [b, 32*32*3]\n",
    "        \n",
    "        x = self.fc1(x)    # [b, 32*32*3] => [b, 256]\n",
    "        x = tf.nn.relu(x)\n",
    "        x = self.fc2(x)    # [b, 256] => [b, 128]\n",
    "        x = tf.nn.relu(x)\n",
    "        x = self.fc3(x)    # [b, 128] => [b, 64]\n",
    "        x = tf.nn.relu(x)\n",
    "        x = self.fc4(x)    # [b, 64] => [b, 32]\n",
    "        x = tf.nn.relu(x)\n",
    "        x = self.fc5(x)    # [b, 32] => [b, 10]\n",
    "        \n",
    "        return x\n",
    "\n",
    "# 实例化神经网络\n",
    "network = MyNetwork()\n",
    "# 装配神经网络实例: optimizer 指定优化器；loss 指定损失函数； metrics 指定在训练的同时计算精确度\n",
    "network.compile(optimizer=optimizers.Adam(lr=1e-3),\n",
    "               loss=tf.losses.CategoricalCrossentropy(from_logits=True),\n",
    "               metrics=['accuracy'])\n",
    "# epochs 指定训练时代数；validation_data指定在训练时进行测试所使用的测试集\n",
    "# validation_freq 指定每进行多少个 epochs 测试一次\n",
    "network.fit(train_db, epochs=20, validation_data=test_db, validation_freq=1)\n",
    "# 训练完成后测试\n",
    "network.evaluate(test_db)\n",
    "# save network， 其中保存的文件名自定义，文件名的后缀名也是自定义的，不会影响格式\n",
    "network.save_weights('/home/kukafee/workspace/save_model/weights6174.ckpy')\n",
    "del network\n",
    "print('saved to \"/home/kukafee/workspace/save_model/weights6174.ckpy\"')\n",
    "\n",
    "network = MyNetwork()\n",
    "network.compile(optimizer=optimizers.Adam(lr=1e-3),\n",
    "               loss=tf.losses.CategoricalCrossentropy(from_logits=True),\n",
    "               metrics=['accuracy'])\n",
    "network.load_weights('/home/kukafee/workspace/save_model/weights6174.ckpy')\n",
    "print('Loaded weights from file.')\n",
    "network.evaluate(test_db)           "
   ]
  }
 ],
 "metadata": {
  "kernelspec": {
   "display_name": "Python 3",
   "language": "python",
   "name": "python3"
  },
  "language_info": {
   "codemirror_mode": {
    "name": "ipython",
    "version": 3
   },
   "file_extension": ".py",
   "mimetype": "text/x-python",
   "name": "python",
   "nbconvert_exporter": "python",
   "pygments_lexer": "ipython3",
   "version": "3.6.7"
  }
 },
 "nbformat": 4,
 "nbformat_minor": 2
}
