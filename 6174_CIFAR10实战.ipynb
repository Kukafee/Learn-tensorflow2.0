{
 "cells": [
  {
   "cell_type": "markdown",
   "metadata": {},
   "source": [
    "## CIFAR10实战"
   ]
  },
  {
   "cell_type": "code",
   "execution_count": 1,
   "metadata": {},
   "outputs": [
    {
     "name": "stdout",
     "output_type": "stream",
     "text": [
      "2.0.0-alpha0\n",
      "sys.version_info(major=3, minor=6, micro=7, releaselevel='final', serial=0)\n",
      "matplotlib 3.1.0\n",
      "numpy 1.16.4\n",
      "pandas 0.24.2\n",
      "sklearn 0.21.2\n",
      "tensorflow 2.0.0-alpha0\n",
      "tensorflow.python.keras.api._v2.keras 2.2.4-tf\n"
     ]
    }
   ],
   "source": [
    "import matplotlib as mpl\n",
    "import matplotlib.pyplot as plt\n",
    "%matplotlib inline\n",
    "import numpy as np\n",
    "import sklearn\n",
    "import pandas as pd\n",
    "import os\n",
    "import sys\n",
    "import time\n",
    "import tensorflow as tf\n",
    "import datetime\n",
    "from tensorflow import keras\n",
    "from tensorflow.keras import datasets, layers, optimizers, Sequential, metrics\n",
    "\n",
    "print(tf.__version__)\n",
    "print(sys.version_info)\n",
    "for module in mpl, np, pd, sklearn, tf, keras:\n",
    "    print(module.__name__, module.__version__)\n",
    "    \n",
    "os.environ['TF_CPP_MIN_LOG_LEVEL'] = '2'"
   ]
  },
  {
   "cell_type": "code",
   "execution_count": 2,
   "metadata": {},
   "outputs": [
    {
     "name": "stdout",
     "output_type": "stream",
     "text": [
      "datasets: (50000, 32, 32, 3) (10000, 32, 32, 3) (50000, 10) (10000, 10) 0 255\n"
     ]
    }
   ],
   "source": [
    "def preprocess(x, y):\n",
    "    \"\"\"x is a simple image, not a batch\"\"\"\n",
    "    # [0 -- 255] => [-1 -- 1]\n",
    "    x = 2 * tf.cast(x, dtype=tf.float32) / 255. - 1.\n",
    "    y = tf.cast(y, dtype=tf.int32)\n",
    "    return x, y\n",
    "\n",
    "batchsz = 128\n",
    "# [50k, 32, 32, 3]  [10k, 1]\n",
    "(x, y), (x_val, y_val) = datasets.cifar10.load_data()\n",
    "# 去除维度数为 1 的维，进行压缩\n",
    "y = tf.squeeze(y)    \n",
    "y_val = tf.squeeze(y_val)\n",
    "y = tf.one_hot(y, depth=10)    # [50k, 10]\n",
    "y_val = tf.one_hot(y_val, depth=10)    # [10k, 10]\n",
    "print('datasets:', x.shape,x_val.shape, y.shape, y_val.shape, x.min(), x.max())\n"
   ]
  },
  {
   "cell_type": "code",
   "execution_count": 3,
   "metadata": {
    "scrolled": false
   },
   "outputs": [
    {
     "name": "stdout",
     "output_type": "stream",
     "text": [
      "batch:  (128, 32, 32, 3) (128, 10)\n",
      "batch:  (128, 32, 32, 3) (128, 10)\n"
     ]
    }
   ],
   "source": [
    "# 数据预处理\n",
    "train_db = tf.data.Dataset.from_tensor_slices((x, y))\n",
    "train_db = train_db.map(preprocess).shuffle(10000).batch(batchsz)\n",
    "test_db = tf.data.Dataset.from_tensor_slices((x_val, y_val))\n",
    "test_db = test_db.map(preprocess).batch(batchsz)\n",
    "\n",
    "sample = next(iter(train_db))\n",
    "print('batch: ', sample[0].shape, sample[1].shape)\n",
    "sample_test = next(iter(test_db))\n",
    "print('batch: ', sample_test[0].shape, sample_test[1].shape)"
   ]
  },
  {
   "cell_type": "code",
   "execution_count": 4,
   "metadata": {},
   "outputs": [],
   "source": [
    "# # 定义监听器\n",
    "# current_time = datetime.datetime.now().strftime('%Y%m%d-%H%M%S')\n",
    "# log_dir = '/home/kukafee/workspace/TensorBoard/' + current_time\n",
    "# summary_writer = tf.summary.create_file_writer(log_dir)"
   ]
  },
  {
   "cell_type": "code",
   "execution_count": 5,
   "metadata": {},
   "outputs": [
    {
     "name": "stdout",
     "output_type": "stream",
     "text": [
      "Epoch 1/20\n",
      "391/391 [==============================] - 3s 7ms/step - loss: 1.7415 - accuracy: 0.3316 - val_loss: 1.5618 - val_accuracy: 0.4458\n",
      "Epoch 2/20\n",
      "391/391 [==============================] - 2s 6ms/step - loss: 1.5136 - accuracy: 0.4575 - val_loss: 1.4960 - val_accuracy: 0.4704\n",
      "Epoch 3/20\n",
      "391/391 [==============================] - 2s 6ms/step - loss: 1.3982 - accuracy: 0.4996 - val_loss: 1.4568 - val_accuracy: 0.4879\n",
      "Epoch 4/20\n",
      "391/391 [==============================] - 2s 6ms/step - loss: 1.3098 - accuracy: 0.5308 - val_loss: 1.4507 - val_accuracy: 0.5005\n",
      "Epoch 5/20\n",
      "391/391 [==============================] - 2s 6ms/step - loss: 1.2375 - accuracy: 0.5595 - val_loss: 1.4491 - val_accuracy: 0.5025\n",
      "Epoch 6/20\n",
      "391/391 [==============================] - 2s 6ms/step - loss: 1.1631 - accuracy: 0.5858 - val_loss: 1.4859 - val_accuracy: 0.5004\n",
      "Epoch 7/20\n",
      "391/391 [==============================] - 2s 6ms/step - loss: 1.1015 - accuracy: 0.6102 - val_loss: 1.5244 - val_accuracy: 0.4965\n",
      "Epoch 8/20\n",
      "391/391 [==============================] - 2s 6ms/step - loss: 1.0414 - accuracy: 0.6328 - val_loss: 1.5513 - val_accuracy: 0.4948\n",
      "Epoch 9/20\n",
      "391/391 [==============================] - 2s 6ms/step - loss: 0.9875 - accuracy: 0.6537 - val_loss: 1.5703 - val_accuracy: 0.5017\n",
      "Epoch 10/20\n",
      "391/391 [==============================] - 2s 6ms/step - loss: 0.9395 - accuracy: 0.6719 - val_loss: 1.6021 - val_accuracy: 0.4997\n",
      "Epoch 11/20\n",
      "391/391 [==============================] - 2s 6ms/step - loss: 0.8920 - accuracy: 0.6864 - val_loss: 1.6502 - val_accuracy: 0.5013\n",
      "Epoch 12/20\n",
      "391/391 [==============================] - 2s 6ms/step - loss: 0.8504 - accuracy: 0.7010 - val_loss: 1.6906 - val_accuracy: 0.4978\n",
      "Epoch 13/20\n",
      "391/391 [==============================] - 2s 6ms/step - loss: 0.8124 - accuracy: 0.7085 - val_loss: 1.7386 - val_accuracy: 0.4953\n",
      "Epoch 14/20\n",
      "391/391 [==============================] - 2s 6ms/step - loss: 0.7776 - accuracy: 0.7229 - val_loss: 1.7726 - val_accuracy: 0.4991\n",
      "Epoch 15/20\n",
      "391/391 [==============================] - 2s 6ms/step - loss: 0.7421 - accuracy: 0.7323 - val_loss: 1.8235 - val_accuracy: 0.4953\n",
      "Epoch 16/20\n",
      "391/391 [==============================] - 2s 6ms/step - loss: 0.7171 - accuracy: 0.7456 - val_loss: 1.9243 - val_accuracy: 0.4901\n",
      "Epoch 17/20\n",
      "391/391 [==============================] - 2s 6ms/step - loss: 0.6869 - accuracy: 0.7543 - val_loss: 1.9944 - val_accuracy: 0.4939\n",
      "Epoch 18/20\n",
      "391/391 [==============================] - 2s 6ms/step - loss: 0.6650 - accuracy: 0.7617 - val_loss: 2.0968 - val_accuracy: 0.4875\n",
      "Epoch 19/20\n",
      "391/391 [==============================] - 2s 6ms/step - loss: 0.6343 - accuracy: 0.7702 - val_loss: 2.1482 - val_accuracy: 0.4855\n",
      "Epoch 20/20\n",
      "391/391 [==============================] - 2s 6ms/step - loss: 0.6183 - accuracy: 0.7831 - val_loss: 2.2216 - val_accuracy: 0.4843\n",
      "79/79 [==============================] - 0s 3ms/step - loss: 2.2216 - accuracy: 0.4843\n",
      "saved to \"/home/kukafee/workspace/save_model/weights6174.ckpy\"\n",
      "Loaded weights from file.\n",
      "79/79 [==============================] - 0s 5ms/step - loss: 2.2216 - accuracy: 0.4884\n"
     ]
    },
    {
     "data": {
      "text/plain": [
       "[2.2216452420512334, 0.4843]"
      ]
     },
     "execution_count": 5,
     "metadata": {},
     "output_type": "execute_result"
    }
   ],
   "source": [
    "# 自定义层\n",
    "class MyDense(layers.Layer):\n",
    "    # to replace standard layeras.Dense()\n",
    "    def __init__(self, inp_dim, outp_dim):\n",
    "        # 调用父类的初始化方法\n",
    "        super(MyDense, self).__init__()\n",
    "        self.kernel = self.add_variable('w', [inp_dim, outp_dim])\n",
    "#         self.bias = self.add_variable('b', [outp_dim])\n",
    "        \n",
    "    def call(self, inputs, training=None):\n",
    "        x = inputs @ self.kernel\n",
    "        return x\n",
    "    \n",
    "# 自定义网络\n",
    "class MyNetwork(keras.Model):\n",
    "    def __init__(self):\n",
    "        super(MyNetwork, self).__init__()\n",
    "        \n",
    "        self.fc1 = MyDense(32*32*3, 256)\n",
    "        self.fc2 = MyDense(256, 128)\n",
    "        self.fc3 = MyDense(128, 64)\n",
    "        self.fc4 = MyDense(64, 32)\n",
    "        self.fc5 = MyDense(32, 10)\n",
    "        \n",
    "    def call(self, inputs, training=None):\n",
    "        # inputs [b, 32, 32, 3]\n",
    "        x = tf.reshape(inputs, [-1, 32*32*3])    # [b, 32*32*3]\n",
    "        \n",
    "        x = self.fc1(x)    # [b, 32*32*3] => [b, 256]\n",
    "        x = tf.nn.relu(x)\n",
    "        x = self.fc2(x)    # [b, 256] => [b, 128]\n",
    "        x = tf.nn.relu(x)\n",
    "        x = self.fc3(x)    # [b, 128] => [b, 64]\n",
    "        x = tf.nn.relu(x)\n",
    "        x = self.fc4(x)    # [b, 64] => [b, 32]\n",
    "        x = tf.nn.relu(x)\n",
    "        x = self.fc5(x)    # [b, 32] => [b, 10]\n",
    "        \n",
    "        return x\n",
    "\n",
    "# 实例化神经网络\n",
    "network = MyNetwork()\n",
    "# 装配神经网络实例: optimizer 指定优化器；loss 指定损失函数； metrics 指定在训练的同时计算精确度\n",
    "network.compile(optimizer=optimizers.Adam(lr=1e-3),\n",
    "               loss=tf.losses.CategoricalCrossentropy(from_logits=True),\n",
    "               metrics=['accuracy'])\n",
    "# epochs 指定训练时代数；validation_data指定在训练时进行测试所使用的测试集\n",
    "# validation_freq 指定每进行多少个 epochs 测试一次\n",
    "network.fit(train_db, epochs=20, validation_data=test_db, validation_freq=1)\n",
    "# 训练完成后测试\n",
    "network.evaluate(test_db)\n",
    "# save network， 其中保存的文件名自定义，文件名的后缀名也是自定义的，不会影响格式\n",
    "network.save_weights('/home/kukafee/workspace/save_model/weights6174.ckpy')\n",
    "del network\n",
    "print('saved to \"/home/kukafee/workspace/save_model/weights6174.ckpy\"')\n",
    "\n",
    "network = MyNetwork()\n",
    "network.compile(optimizer=optimizers.Adam(lr=1e-3),\n",
    "               loss=tf.losses.CategoricalCrossentropy(from_logits=True),\n",
    "               metrics=['accuracy'])\n",
    "network.load_weights('/home/kukafee/workspace/save_model/weights6174.ckpy')\n",
    "print('Loaded weights from file.')\n",
    "network.evaluate(test_db)           "
   ]
  }
 ],
 "metadata": {
  "kernelspec": {
   "display_name": "Python 3",
   "language": "python",
   "name": "python3"
  },
  "language_info": {
   "codemirror_mode": {
    "name": "ipython",
    "version": 3
   },
   "file_extension": ".py",
   "mimetype": "text/x-python",
   "name": "python",
   "nbconvert_exporter": "python",
   "pygments_lexer": "ipython3",
   "version": "3.6.7"
  }
 },
 "nbformat": 4,
 "nbformat_minor": 2
}
