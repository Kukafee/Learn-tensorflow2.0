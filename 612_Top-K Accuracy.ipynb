{
 "cells": [
  {
   "cell_type": "markdown",
   "metadata": {},
   "source": [
    "### Top-k Accuracy"
   ]
  },
  {
   "cell_type": "code",
   "execution_count": 38,
   "metadata": {},
   "outputs": [
    {
     "name": "stdout",
     "output_type": "stream",
     "text": [
      "2.0.0-alpha0\n",
      "sys.version_info(major=3, minor=6, micro=7, releaselevel='final', serial=0)\n",
      "matplotlib 3.1.0\n",
      "numpy 1.16.4\n",
      "pandas 0.24.2\n",
      "sklearn 0.21.2\n",
      "tensorflow 2.0.0-alpha0\n",
      "tensorflow.keras 2.2.4-tf\n"
     ]
    }
   ],
   "source": [
    "import matplotlib as mpl\n",
    "import matplotlib.pyplot as plt\n",
    "%matplotlib inline\n",
    "import numpy as np\n",
    "import sklearn\n",
    "import pandas as pd\n",
    "import os\n",
    "import sys\n",
    "import time\n",
    "import tensorflow as tf\n",
    "\n",
    "from tensorflow import keras\n",
    "from tensorflow.keras import datasets\n",
    "\n",
    "print(tf.__version__)\n",
    "print(sys.version_info)\n",
    "for module in mpl, np, pd, sklearn, tf, keras:\n",
    "    print(module.__name__, module.__version__)"
   ]
  },
  {
   "cell_type": "code",
   "execution_count": 39,
   "metadata": {},
   "outputs": [],
   "source": [
    "tf.random.set_seed(2467)"
   ]
  },
  {
   "cell_type": "code",
   "execution_count": 44,
   "metadata": {},
   "outputs": [],
   "source": [
    "def accuracy(output, target, topk=(1,)):\n",
    "    maxk = max(topk)\n",
    "    batch_size = target.shape[0]\n",
    "    \n",
    "    pred = tf.math.top_k(output, maxk).indices\n",
    "    pred = tf.transpose(pred, perm=[1, 0])\n",
    "    target_ = tf.broadcast_to(target, pred.shape)\n",
    "    \n",
    "    correct = tf.equal(pred, target_)\n",
    "    \n",
    "    res = []\n",
    "    for k in topk:\n",
    "    #     print(print(acc)k)\n",
    "        correct_k = tf.cast(tf.reshape(correct[:k],[-1]),dtype=tf.float32)\n",
    "        correct_k = tf.reduce_sum(correct_k)\n",
    "        acc = float(correct_k* (100.0 / batch_size))\n",
    "        res.append(acc)\n",
    "        \n",
    "    return res\n"
   ]
  },
  {
   "cell_type": "code",
   "execution_count": 47,
   "metadata": {},
   "outputs": [
    {
     "name": "stdout",
     "output_type": "stream",
     "text": [
      "prob:   [2 5 4 0 5 5 2 0 3 4]\n",
      "pred:   [1 0 5 4 5 5 0 1 5 3]\n",
      "label:  [2 5 3 2 0 5 5 2 3 1]\n",
      "top-1-6 [10.0, 10.0, 40.0, 70.0, 90.0, 100.0]\n"
     ]
    }
   ],
   "source": [
    "output = tf.random.normal([10, 6])\n",
    "output = tf.math.softmax(output, axis=1)\n",
    "target = tf.random.uniform([10], maxval=6, dtype=tf.int32)\n",
    "print('prob:  ', pred.numpy())\n",
    "pred = tf.argmax(output, axis=1)\n",
    "print('pred:  ', pred.numpy())\n",
    "print('label: ', target.numpy())\n",
    "\n",
    "acc = accuracy(output, target, topk=(1,2,3,4,5,6))\n",
    "print('top-1-6', acc)"
   ]
  },
  {
   "cell_type": "code",
   "execution_count": null,
   "metadata": {},
   "outputs": [],
   "source": []
  },
  {
   "cell_type": "code",
   "execution_count": 2,
   "metadata": {},
   "outputs": [
    {
     "name": "stdout",
     "output_type": "stream",
     "text": [
      "tf.Tensor(\n",
      "[[0.2  0.3  0.5 ]\n",
      " [0.01 0.8  0.19]\n",
      " [0.7  0.2  0.1 ]], shape=(3, 3), dtype=float32)\n"
     ]
    }
   ],
   "source": [
    "# def accuracy(output, target, topk=(1,)):\n",
    "output = tf.constant([[0.2, 0.3, 0.5],[0.01, 0.8, 0.19],[0.7, 0.2, 0.1]])\n",
    "print(output)"
   ]
  },
  {
   "cell_type": "code",
   "execution_count": 3,
   "metadata": {},
   "outputs": [
    {
     "name": "stdout",
     "output_type": "stream",
     "text": [
      "tf.Tensor([2 2 1], shape=(3,), dtype=int32)\n"
     ]
    }
   ],
   "source": [
    "target = tf.constant([2, 2, 1])\n",
    "print(target)"
   ]
  },
  {
   "cell_type": "code",
   "execution_count": 4,
   "metadata": {},
   "outputs": [
    {
     "name": "stdout",
     "output_type": "stream",
     "text": [
      "(1, 2, 3) <class 'tuple'>\n"
     ]
    }
   ],
   "source": [
    "topk = (1, 2, 3)\n",
    "print(topk, type(topk))"
   ]
  },
  {
   "cell_type": "code",
   "execution_count": 5,
   "metadata": {},
   "outputs": [
    {
     "name": "stdout",
     "output_type": "stream",
     "text": [
      "3\n"
     ]
    }
   ],
   "source": [
    "maxk = max(topk)\n",
    "print(maxk)"
   ]
  },
  {
   "cell_type": "code",
   "execution_count": 6,
   "metadata": {},
   "outputs": [
    {
     "name": "stdout",
     "output_type": "stream",
     "text": [
      "3\n"
     ]
    }
   ],
   "source": [
    "batch_size = target.shape[0]\n",
    "print(batch_size)"
   ]
  },
  {
   "cell_type": "code",
   "execution_count": 10,
   "metadata": {},
   "outputs": [
    {
     "name": "stdout",
     "output_type": "stream",
     "text": [
      "tf.Tensor(\n",
      "[[2 1 0]\n",
      " [1 2 0]\n",
      " [0 1 2]], shape=(3, 3), dtype=int32)\n"
     ]
    }
   ],
   "source": [
    "pred = tf.math.top_k(output, maxk).indices\n",
    "print(pred)"
   ]
  },
  {
   "cell_type": "code",
   "execution_count": 11,
   "metadata": {},
   "outputs": [
    {
     "name": "stdout",
     "output_type": "stream",
     "text": [
      "tf.Tensor(\n",
      "[[2 1 0]\n",
      " [1 2 1]\n",
      " [0 0 2]], shape=(3, 3), dtype=int32)\n"
     ]
    }
   ],
   "source": [
    "pred = tf.transpose(pred, perm=[1, 0])\n",
    "print(pred)"
   ]
  },
  {
   "cell_type": "code",
   "execution_count": 12,
   "metadata": {},
   "outputs": [
    {
     "name": "stdout",
     "output_type": "stream",
     "text": [
      "tf.Tensor(\n",
      "[[2 2 1]\n",
      " [2 2 1]\n",
      " [2 2 1]], shape=(3, 3), dtype=int32)\n"
     ]
    }
   ],
   "source": [
    "target_ = tf.broadcast_to(target, pred.shape)\n",
    "print(target_)"
   ]
  },
  {
   "cell_type": "code",
   "execution_count": 36,
   "metadata": {},
   "outputs": [
    {
     "name": "stdout",
     "output_type": "stream",
     "text": [
      "tf.Tensor(\n",
      "[[ True False False]\n",
      " [False  True  True]\n",
      " [False False False]], shape=(3, 3), dtype=bool)\n"
     ]
    }
   ],
   "source": [
    "correct = tf.equal(pred, target_)\n",
    "print(correct)"
   ]
  },
  {
   "cell_type": "code",
   "execution_count": 20,
   "metadata": {},
   "outputs": [
    {
     "data": {
      "text/plain": [
       "<tf.Tensor: id=48, shape=(9,), dtype=bool, numpy=array([ True, False, False, False,  True,  True, False, False, False])>"
      ]
     },
     "execution_count": 20,
     "metadata": {},
     "output_type": "execute_result"
    }
   ],
   "source": [
    "tf.reshape(correct[:3],[-1])"
   ]
  },
  {
   "cell_type": "code",
   "execution_count": 34,
   "metadata": {
    "scrolled": false
   },
   "outputs": [
    {
     "name": "stdout",
     "output_type": "stream",
     "text": [
      "tf.Tensor([1. 0. 0. 0. 1. 1. 0. 0. 0.], shape=(9,), dtype=float32)\n"
     ]
    }
   ],
   "source": [
    "correct_k = tf.cast(tf.reshape(correct[:3],[-1]),dtype=tf.float32)\n",
    "print(correct_k)"
   ]
  },
  {
   "cell_type": "code",
   "execution_count": 35,
   "metadata": {},
   "outputs": [
    {
     "data": {
      "text/plain": [
       "3"
      ]
     },
     "execution_count": 35,
     "metadata": {},
     "output_type": "execute_result"
    }
   ],
   "source": [
    "batch_size"
   ]
  },
  {
   "cell_type": "code",
   "execution_count": 26,
   "metadata": {},
   "outputs": [
    {
     "name": "stdout",
     "output_type": "stream",
     "text": [
      "(1, 2, 3)\n"
     ]
    }
   ],
   "source": [
    "print(topk)"
   ]
  },
  {
   "cell_type": "code",
   "execution_count": 29,
   "metadata": {},
   "outputs": [
    {
     "name": "stdout",
     "output_type": "stream",
     "text": [
      "0.3333333432674408\n",
      "1.0\n",
      "1.0\n"
     ]
    }
   ],
   "source": [
    "res = []\n",
    "for k in topk:\n",
    "#     print(print(acc)k)\n",
    "    correct_k = tf.cast(tf.reshape(correct[:k],[-1]),dtype=tf.float32)\n",
    "    correct_k = tf.reduce_sum(correct_k)\n",
    "    acc = float(correct_k / batch_size)\n",
    "    res.append(acc)\n",
    "    print(acc)\n",
    "    "
   ]
  },
  {
   "cell_type": "code",
   "execution_count": null,
   "metadata": {},
   "outputs": [],
   "source": []
  }
 ],
 "metadata": {
  "kernelspec": {
   "display_name": "Python 3",
   "language": "python",
   "name": "python3"
  },
  "language_info": {
   "codemirror_mode": {
    "name": "ipython",
    "version": 3
   },
   "file_extension": ".py",
   "mimetype": "text/x-python",
   "name": "python",
   "nbconvert_exporter": "python",
   "pygments_lexer": "ipython3",
   "version": "3.6.7"
  }
 },
 "nbformat": 4,
 "nbformat_minor": 2
}
