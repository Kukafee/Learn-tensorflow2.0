{
 "cells": [
  {
   "cell_type": "markdown",
   "metadata": {},
   "source": [
    "## Sentiment analysis layer"
   ]
  },
  {
   "cell_type": "code",
   "execution_count": 1,
   "metadata": {},
   "outputs": [],
   "source": [
    "import os\n",
    "import tensorflow as tf\n",
    "import numpy as np\n",
    "from tensorflow import keras\n",
    "from tensorflow.keras import layers"
   ]
  },
  {
   "cell_type": "code",
   "execution_count": 2,
   "metadata": {},
   "outputs": [],
   "source": [
    "# 对全局随机数生成种子的设置\n",
    "tf.random.set_seed(22)\n",
    "# 使用相同的参数，每次生成的随机数都相同\n",
    "np.random.seed(22)\n",
    "os.environ['TF_CPP_MIN_LOG_LEVEL'] = '2'\n",
    "# startwith('2.') 这个函数用于判断tf.__version__的版本信息是否以'2.0'返回，返回True或者False\n",
    "# assert 关键字用于判断该关键字后面的表达式返回值，True则不报错，返回False则报错‘AssertionError: ’\n",
    "assert tf.__version__.startswith('2.')\n",
    "assert np.__version__.startswith('1.16.2')"
   ]
  },
  {
   "cell_type": "code",
   "execution_count": 3,
   "metadata": {},
   "outputs": [
    {
     "name": "stdout",
     "output_type": "stream",
     "text": [
      "x_train shape:  (25000, 80)\n",
      "y_train_max:  tf.Tensor(1, shape=(), dtype=int64)\n",
      "y_train_min:  tf.Tensor(0, shape=(), dtype=int64)\n",
      "x_test:  (25000, 80)\n"
     ]
    }
   ],
   "source": [
    "batchsz = 512\n",
    "total_words = 10000    # 设定常用的单位数目为 10000\n",
    "max_review_len = 80    # 设定每个句子中单词个数的最大值，即可以统一padding为这样的长度\n",
    "# max_review_len = 100\n",
    "embedding_len = 100    # 每个单词的编码维度，即用100维的向量表示一个单词\n",
    "\n",
    "(x_train, y_train), (x_test, y_test) = keras.datasets.imdb.load_data(num_words=total_words)\n",
    "x_train = keras.preprocessing.sequence.pad_sequences(x_train, maxlen=max_review_len)\n",
    "x_test = keras.preprocessing.sequence.pad_sequences(x_test, maxlen=max_review_len)\n",
    "\n",
    "# 对数据集进行切片处理\n",
    "db_train = tf.data.Dataset.from_tensor_slices((x_train, y_train))\n",
    "# batch()的参数 drop_remainer 设置为 True 是丢弃最末尾的 batch可能出现不为整数的batch\n",
    "db_train = db_train.shuffle(1000).batch(batchsz, drop_remainder=True)\n",
    "db_test = tf.data.Dataset.from_tensor_slices((x_test, y_test))\n",
    "db_test = db_test.batch(batchsz, drop_remainder=True)\n",
    "# 打印显示\n",
    "print('x_train shape: ', x_train.shape)\n",
    "print('y_train_max: ', tf.reduce_max(y_train))\n",
    "print('y_train_min: ', tf.reduce_min(y_train))\n",
    "print('x_test: ', x_test.shape)"
   ]
  },
  {
   "cell_type": "code",
   "execution_count": 4,
   "metadata": {},
   "outputs": [],
   "source": [
    "class MyRNN(keras.Model):\n",
    "    def __init__(self, units):\n",
    "        super(MyRNN, self).__init__()\n",
    "        self.embedding = layers.Embedding(total_words, embedding_len, input_length=max_review_len)\n",
    "        \n",
    "        self.rnn = keras.Sequential([\n",
    "            layers.SimpleRNN(units, dropout=0.5, return_sequences=True, unroll=True),\n",
    "            layers.SimpleRNN(units, dropout=0.5, unroll=True)\n",
    "        ])\n",
    "        \n",
    "        self.outlayer = layers.Dense(1)\n",
    "        \n",
    "    def call(self, inputs, training=None):\n",
    "        x = inputs\n",
    "        x = self.embedding(x)\n",
    "        x = self.rnn(x)\n",
    "        x = self.outlayer(x)\n",
    "        prob = tf.sigmoid(x)\n",
    "        \n",
    "        return prob\n",
    "    \n",
    "    "
   ]
  },
  {
   "cell_type": "code",
   "execution_count": 5,
   "metadata": {},
   "outputs": [
    {
     "name": "stderr",
     "output_type": "stream",
     "text": [
      "WARNING: Logging before flag parsing goes to stderr.\n",
      "W0625 20:58:44.233396 139909149611840 deprecation.py:506] From /home/kukafee/environments/tf2_py3/lib/python3.6/site-packages/tensorflow/python/keras/backend.py:4081: calling dropout (from tensorflow.python.ops.nn_ops) with keep_prob is deprecated and will be removed in a future version.\n",
      "Instructions for updating:\n",
      "Please use `rate` instead of `keep_prob`. Rate should be set to `rate = 1 - keep_prob`.\n"
     ]
    },
    {
     "name": "stdout",
     "output_type": "stream",
     "text": [
      "Epoch 1/5\n",
      "48/48 [==============================] - 8s 166ms/step - loss: 0.7005 - accuracy: 0.5087 - val_loss: 0.6842 - val_accuracy: 0.5767\n",
      "Epoch 2/5\n",
      "48/48 [==============================] - 1s 25ms/step - loss: 0.5869 - accuracy: 0.6202 - val_loss: 0.4235 - val_accuracy: 0.8091\n",
      "Epoch 3/5\n",
      "48/48 [==============================] - 1s 30ms/step - loss: 0.3696 - accuracy: 0.8236 - val_loss: 0.4228 - val_accuracy: 0.8089\n",
      "Epoch 4/5\n",
      "48/48 [==============================] - 1s 26ms/step - loss: 0.2889 - accuracy: 0.8719 - val_loss: 0.4265 - val_accuracy: 0.8257\n",
      "Epoch 5/5\n",
      "48/48 [==============================] - 1s 24ms/step - loss: 0.2216 - accuracy: 0.9089 - val_loss: 0.4925 - val_accuracy: 0.8275\n",
      "48/48 [==============================] - 0s 8ms/step - loss: 0.4925 - accuracy: 0.8275\n"
     ]
    },
    {
     "data": {
      "text/plain": [
       "[0.4924506489187479, 0.82747394]"
      ]
     },
     "execution_count": 5,
     "metadata": {},
     "output_type": "execute_result"
    }
   ],
   "source": [
    "units = 64\n",
    "# units = 150\n",
    "epochs = 5\n",
    "model = MyRNN(units)    # 调用 call 方法\n",
    "model.compile(optimizer = keras.optimizers.Adam(0.001),\n",
    "             loss = tf.losses.BinaryCrossentropy(),\n",
    "             metrics = ['accuracy'])\n",
    "# 训练\n",
    "model.fit(db_train, epochs=epochs, validation_data=db_test)\n",
    "# 测试评估\n",
    "model.evaluate(db_test)"
   ]
  }
 ],
 "metadata": {
  "kernelspec": {
   "display_name": "Python 3",
   "language": "python",
   "name": "python3"
  },
  "language_info": {
   "codemirror_mode": {
    "name": "ipython",
    "version": 3
   },
   "file_extension": ".py",
   "mimetype": "text/x-python",
   "name": "python",
   "nbconvert_exporter": "python",
   "pygments_lexer": "ipython3",
   "version": "3.6.7"
  }
 },
 "nbformat": 4,
 "nbformat_minor": 2
}
